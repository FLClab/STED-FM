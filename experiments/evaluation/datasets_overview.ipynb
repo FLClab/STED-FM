{
 "cells": [
  {
   "cell_type": "code",
   "execution_count": 1,
   "metadata": {},
   "outputs": [],
   "source": [
    "import numpy as np \n",
    "import matplotlib.pyplot as plt \n",
    "import torch \n",
    "import sys \n",
    "import os\n",
    "import tifffile\n",
    "from stedfm.DEFAULTS import BASE_PATH \n",
    "from stedfm.loaders import get_dataset \n",
    "from tiffwrapper import make_composite\n",
    "\n",
    "DATASET = \"optim\""
   ]
  },
  {
   "cell_type": "code",
   "execution_count": 5,
   "metadata": {},
   "outputs": [
    {
     "name": "stdout",
     "output_type": "stream",
     "text": [
      "/home-local/Frederic/evaluation-data/optim_train\n",
      "Train dataset size: 1536 --> (array([0, 1, 2, 3]), array([881, 220, 208, 227]))\n",
      "Valid dataset size: 147 --> (array([0, 1, 2, 3]), array([82, 29, 16, 20]))\n",
      "Test dataset size: 438 --> (array([0, 1, 2, 3]), array([261,  60,  56,  61]))\n",
      "(1, 224, 224)\n",
      "(1, 224, 224)\n",
      "(1, 224, 224)\n",
      "(1, 224, 224)\n",
      "(1, 224, 224)\n",
      "(1, 224, 224)\n",
      "(1, 224, 224)\n",
      "(1, 224, 224)\n",
      "(1, 224, 224)\n",
      "(1, 224, 224)\n"
     ]
    }
   ],
   "source": [
    "train_loader, _, _ = get_dataset(\n",
    "    name=DATASET, training=True\n",
    ")\n",
    "\n",
    "os.makedirs(\"./figure3\", exist_ok=True)\n",
    "dataset = train_loader.dataset\n",
    "N = len(dataset)\n",
    "indices = np.random.randint(0, N, size=10)\n",
    "for i in indices:\n",
    "    x, y = dataset[i]\n",
    "    y = y[\"label\"]\n",
    "    img = x.cpu().numpy()\n",
    "    print(img.shape)\n",
    "    img = make_composite(img, luts=[\"gray\"], ranges=[(0, 1)])\n",
    "    tifffile.imwrite(f\"./figure3/{DATASET}_temp_{i}.tif\", img)\n",
    "    # fig = plt.figure()\n",
    "    # plt.imshow(x.squeeze().cpu().numpy(), cmap=\"hot\")\n",
    "    # plt.title(f\"Label: {y}\")\n",
    "    # plt.axis(\"off\")\n",
    "    # fig.savefig(\"./figure3/{}_temp_{}.pdf\".format(DATASET, i), dpi=1200, bbox_inches=\"tight\")\n",
    "    # plt.close(fig)\n"
   ]
  },
  {
   "cell_type": "code",
   "execution_count": null,
   "metadata": {},
   "outputs": [],
   "source": []
  }
 ],
 "metadata": {
  "kernelspec": {
   "display_name": "phd-env",
   "language": "python",
   "name": "python3"
  },
  "language_info": {
   "codemirror_mode": {
    "name": "ipython",
    "version": 3
   },
   "file_extension": ".py",
   "mimetype": "text/x-python",
   "name": "python",
   "nbconvert_exporter": "python",
   "pygments_lexer": "ipython3",
   "version": "3.8.18"
  }
 },
 "nbformat": 4,
 "nbformat_minor": 2
}
