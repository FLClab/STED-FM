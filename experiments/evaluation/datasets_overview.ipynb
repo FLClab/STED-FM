{
 "cells": [
  {
   "cell_type": "code",
   "execution_count": 14,
   "metadata": {},
   "outputs": [],
   "source": [
    "import numpy as np \n",
    "import matplotlib.pyplot as plt \n",
    "import torch \n",
    "import sys \n",
    "\n",
    "sys.path.insert(0, \"../\")\n",
    "from DEFAULTS import BASE_PATH \n",
    "from loaders import get_dataset \n",
    "\n",
    "DATASET = \"dl-sim\""
   ]
  },
  {
   "cell_type": "code",
   "execution_count": 17,
   "metadata": {},
   "outputs": [
    {
     "name": "stdout",
     "output_type": "stream",
     "text": [
      "Samples:  DL-SIM-training.txt\n",
      "adhesion 440\n",
      "factin 623\n",
      "microtubule 725\n",
      "mitochondrial 669\n",
      "----------\n",
      "Class adhesion samples: 440\n",
      "Class factin samples: 623\n",
      "Class microtubule samples: 725\n",
      "Class mitochondrial samples: 669\n",
      "----------\n",
      "Samples:  DL-SIM-validation.txt\n",
      "adhesion 229\n",
      "factin 259\n",
      "microtubule 282\n",
      "mitochondrial 284\n",
      "----------\n",
      "Class adhesion samples: 229\n",
      "Class factin samples: 259\n",
      "Class microtubule samples: 282\n",
      "Class mitochondrial samples: 284\n",
      "----------\n",
      "Samples:  DL-SIM-testing.txt\n",
      "adhesion 99\n",
      "factin 126\n",
      "microtubule 167\n",
      "mitochondrial 135\n",
      "----------\n",
      "Class adhesion samples: 99\n",
      "Class factin samples: 126\n",
      "Class microtubule samples: 167\n",
      "Class mitochondrial samples: 135\n",
      "----------\n",
      "Training size: 5863\n",
      "Validation size: 2535\n",
      "Test size: 1242\n"
     ]
    }
   ],
   "source": [
    "train_loader, _, _ = get_dataset(\n",
    "    name=DATASET, training=True\n",
    ")\n",
    "\n",
    "dataset = train_loader.dataset\n",
    "N = len(dataset)\n",
    "indices = np.random.randint(0, N, size=30)\n",
    "for i in indices:\n",
    "    x, y = dataset[i]\n",
    "    y = y[\"label\"]\n",
    "    \n",
    "    fig = plt.figure()\n",
    "    plt.imshow(x.squeeze().cpu().numpy(), cmap=\"hot\")\n",
    "    plt.title(f\"Label: {y}\")\n",
    "    plt.axis(\"off\")\n",
    "    fig.savefig(\"./dummy_images/{}_temp_{}.pdf\".format(DATASET, i), dpi=1200, bbox_inches=\"tight\")\n",
    "    plt.close(fig)\n"
   ]
  },
  {
   "cell_type": "code",
   "execution_count": null,
   "metadata": {},
   "outputs": [],
   "source": []
  }
 ],
 "metadata": {
  "kernelspec": {
   "display_name": "phd-env",
   "language": "python",
   "name": "python3"
  },
  "language_info": {
   "codemirror_mode": {
    "name": "ipython",
    "version": 3
   },
   "file_extension": ".py",
   "mimetype": "text/x-python",
   "name": "python",
   "nbconvert_exporter": "python",
   "pygments_lexer": "ipython3",
   "version": "3.8.18"
  }
 },
 "nbformat": 4,
 "nbformat_minor": 2
}
