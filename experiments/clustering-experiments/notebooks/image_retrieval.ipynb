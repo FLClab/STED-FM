{
 "cells": [
  {
   "cell_type": "code",
   "execution_count": 8,
   "metadata": {},
   "outputs": [],
   "source": [
    "import torch \n",
    "from torch.utils.data import DataLoader \n",
    "from tqdm import tqdm \n",
    "import numpy as np\n",
    "from typing import List, Optional, Tuple\n",
    "from stedfm import get_pretrained_model_v2\n",
    "from stedfm.DEFAULTS import BASE_PATH \n",
    "from stedfm.loaders import get_dataset \n",
    "from torchvision.models.feature_extraction import get_graph_node_names, create_feature_extractor\n",
    "\n",
    "DATASET = \"optim\"\n",
    "MODEL = \"mae-lightning-small\"\n",
    "WEIGHTS = \"MAE_SMALL_STED\"\n",
    "GLOBAL_POOL = \"avg\"\n",
    "\n",
    "\n",
    "def get_classes(dataset: str):\n",
    "    if dataset == \"optim\":\n",
    "        return [\"Actin\", \"Tubulin\", \"CaMKII\", \"PSD95\"]  \n",
    "    elif dataset == \"neural-activity-states\":\n",
    "        return [\"Block\", \"0Mg\", \"GluGly\", \"48hTTX\"]\n",
    "    elif dataset == \"peroxisome\":\n",
    "        return [\"4hMeOH\", \"6hMeOH\", \"8hMeOH\", \"16hMeOH\"]\n",
    "    elif dataset == \"polymer-rings\":\n",
    "        return [\"CdvB1\", \"CdvB2\"]\n",
    "    elif dataset == \"dl-sim\":\n",
    "        return [\"adhesion\", \"factin\", \"microtubule\", \"mitosis\"]\n",
    "    else:\n",
    "        raise ValueError(f\"Dataset {dataset} not supported\")\n",
    "    \n",
    "CLASSES = get_classes(DATASET)\n",
    "N_CLASSES = len(CLASSES)\n"
   ]
  },
  {
   "cell_type": "code",
   "execution_count": 9,
   "metadata": {},
   "outputs": [
    {
     "name": "stdout",
     "output_type": "stream",
     "text": [
      "--- Running on cuda ---\n",
      "mask_ratio 0.0\n",
      "pretrained False\n",
      "in_channels 1\n",
      "blocks all\n",
      "num_classes 4\n",
      "--- mae-lightning-small | /home-local/Frederic/baselines/mae-small_STED/pl_checkpoint-999.pth ---\n",
      "\n",
      "--- Loaded model mae-lightning-small with weights MAE_SMALL_STED ---\n",
      "--- ViT case with none-ImageNet weights or from scratch ---\n",
      "--- Freezing every parameter in mae-lightning-small ---\n",
      "--- Added linear probe to all frozen blocks ---\n"
     ]
    }
   ],
   "source": [
    "DEVICE = torch.device(\"cuda\" if torch.cuda.is_available() else \"cpu\")\n",
    "print(f\"--- Running on {DEVICE} ---\")\n",
    "\n",
    "model, cfg = get_pretrained_model_v2(\n",
    "    name=MODEL,\n",
    "    weights=WEIGHTS,\n",
    "    path=None,\n",
    "    mask_ratio=0.0,\n",
    "    pretrained=True if \"imagenet\" in WEIGHTS.lower() else False,\n",
    "    in_channels=3 if \"imagenet\" in WEIGHTS.lower() else 1,\n",
    "    as_classifier=True,\n",
    "    blocks=\"all\",\n",
    "    num_classes=4\n",
    ")\n",
    "model.to(DEVICE)\n",
    "model.eval()"
   ]
  },
  {
   "cell_type": "code",
   "execution_count": 10,
   "metadata": {},
   "outputs": [
    {
     "name": "stdout",
     "output_type": "stream",
     "text": [
      "/home-local/Frederic/evaluation-data/optim_train\n",
      "Train dataset size: 1536 --> (array([0, 1, 2, 3]), array([881, 220, 208, 227]))\n",
      "Valid dataset size: 147 --> (array([0, 1, 2, 3]), array([82, 29, 16, 20]))\n",
      "Test dataset size: 438 --> (array([0, 1, 2, 3]), array([261,  60,  56,  61]))\n"
     ]
    }
   ],
   "source": [
    "_, _, test_loader = get_dataset(\n",
    "    name=DATASET,\n",
    "    transform=None,\n",
    "    training=True,\n",
    "    path=None,\n",
    "    batch_size=cfg.batch_size,\n",
    "    n_channels=3 if \"imagenet\" in WEIGHTS.lower() else 1,\n",
    ")"
   ]
  },
  {
   "cell_type": "code",
   "execution_count": null,
   "metadata": {},
   "outputs": [
    {
     "name": "stdout",
     "output_type": "stream",
     "text": [
      "404\n"
     ]
    }
   ],
   "source": [
    "import matplotlib.pyplot as plt \n",
    "from timm.models.layers import PatchEmbed \n",
    "import torch.nn.functional as F\n",
    "from tiffwrapper import make_composite\n",
    "\n",
    "def show_amap(image, a_map):\n",
    "    image = image.squeeze().cpu().data.numpy()\n",
    "    a_map = a_map.squeeze().cpu().data.numpy()\n",
    "    if image.ndim == 3:\n",
    "        image = image[0]\n",
    "\n",
    "    m, M = np.min(image), np.max(image)\n",
    "    image_rgb = make_composite(np.array([image]), luts=[\"gray\"], ranges=[(m, M)])\n",
    "    image_amap_rgb = make_composite(np.stack([image, a_map]), luts=[\"gray\", \"Orange Hot\"], ranges=[(m, M), (a_map.min() + 0.25 *(a_map.max() - a_map.min()), a_map.max())])\n",
    "\n",
    "    fig = plt.figure(figsize=(10,10))\n",
    "    ax = fig.add_subplot(111)\n",
    "    ax.imshow(image_amap_rgb)\n",
    "    ax.axis(\"off\")\n",
    "    plt.show()\n",
    "\n",
    "N = len(test_loader.dataset)\n",
    "indices = np.arange(N)\n",
    "np.random.shuffle(indices)\n",
    "\n",
    "feature_extractor = create_feature_extractor(\n",
    "    model, return_nodes=[\"backbone.blocks.11.attn.q_norm\", \"backbone.blocks.11.attn.k_norm\"],\n",
    "    tracer_kwargs={'leaf_modules': [PatchEmbed]}\n",
    ")\n",
    "\n",
    "\n",
    "with torch.no_grad():\n",
    "    xs = np.arange(0, 224, 16)\n",
    "    print(indices[0])\n",
    "    for i in [272]:\n",
    "        # fig = plt.figure(figsize=(10, 10))\n",
    "        # ax = fig.add_subplot(111)\n",
    "        # img = test_loader.dataset[i][0].unsqueeze(0).to(DEVICE)\n",
    "        img = test_loader.dataset[i][0].squeeze().cpu().numpy()\n",
    "        np.save(\"./img.npy\", img)\n",
    "        # out = feature_extractor(img)\n",
    "        # q, k = out[\"backbone.blocks.11.attn.q_norm\"], out[\"backbone.blocks.11.attn.k_norm\"]\n",
    "        # factor = (384 / 6) ** -0.5 # (head_dim / num_heads ) ** -0.5\n",
    "        # q = q * factor \n",
    "        # attn = q @ k.transpose(-2, -1) # (1, 6, 197, 197)\n",
    "        # attn = attn.softmax(dim=-1) # (1, 6, 197, 197) \n",
    "        # head = np.random.randint(0, 6)\n",
    "        # attn_map = attn[:, head, :, :].squeeze(0)\n",
    "        # for head in range(6):\n",
    "        #     print(head)\n",
    "        #     cls_attn_map = attn[:, :, 0, 1:]  # (1, 6, 196) \n",
    "        #     cls_attn_map = cls_attn_map[:, head, :].view(14, 14).detach() # (14, 14)\n",
    "        #     cls_resized = F.interpolate(cls_attn_map.view(1, 1, 14, 14), (224, 224), mode='bilinear').view(224, 224, 1) # (224, 224, C)\n",
    "        #     m, M = cls_resized.min(), cls_resized.max()\n",
    "        #     cls_resized = (cls_resized - m) / (M - m)\n",
    "        #     show_amap(img, cls_resized)\n",
    "        # img = test_loader.dataset[i][0].squeeze().cpu().numpy()\n",
    "        # ax.imshow(img, cmap=\"hot\")\n",
    "        # ax.set_title(i)\n",
    "        # for x in xs:\n",
    "        #     ax.axvline(x, color=\"white\", linewidth=1.0)\n",
    "        #     ax.axhline(x, color=\"white\", linewidth=1.0)\n",
    "\n",
    "    #     ax.axis(\"off\")\n",
    "    #     plt.show()\n",
    "    #     plt.close(fig)\n",
    "    # fig.savefig(\"./patchified_img.png\", dpi=1200, bbox_inches=\"tight\")"
   ]
  },
  {
   "cell_type": "code",
   "execution_count": 48,
   "metadata": {},
   "outputs": [
    {
     "data": {
      "image/png": "[encoded data removed]",
      "text/plain": [
       "<Figure size 720x720 with 1 Axes>"
      ]
     },
     "metadata": {
      "needs_background": "light"
     },
     "output_type": "display_data"
    }
   ],
   "source": [
    "mat = np.random.rand(7,7)\n",
    "mat *= 0.7\n",
    "np.fill_diagonal(mat, 1.0)\n",
    "fig = plt.figure(figsize=(10,10))\n",
    "plt.imshow(mat, cmap=\"RdPu\")\n",
    "plt.show()"
   ]
  },
  {
   "cell_type": "code",
   "execution_count": 118,
   "metadata": {},
   "outputs": [
    {
     "name": "stdout",
     "output_type": "stream",
     "text": [
      "torch.Size([1242, 384]) (1242,)\n"
     ]
    }
   ],
   "source": [
    "embeddings, labels, dataset_idx = [], [], []\n",
    "N = len(test_loader.dataset)\n",
    "with torch.no_grad():\n",
    "    for i in range(N):\n",
    "        img = test_loader.dataset[i][0].unsqueeze(0)\n",
    "        metadata = test_loader.dataset[i][1]\n",
    "        img = img.to(DEVICE)\n",
    "        label = metadata[\"label\"]\n",
    "        d_id = metadata[\"dataset-idx\"]\n",
    "        output = model.forward_features(img)\n",
    "        embeddings.append(output)\n",
    "        labels.append(label)\n",
    "        dataset_idx.append(d_id)\n",
    "\n",
    "embeddings = torch.cat(embeddings, dim=0)\n",
    "labels = np.array(labels)\n",
    "dataset_idx = np.array(dataset_idx)\n",
    "print(embeddings.shape, labels.shape)\n",
    "assert embeddings.shape[0] == labels.shape[0]"
   ]
  },
  {
   "cell_type": "code",
   "execution_count": 119,
   "metadata": {},
   "outputs": [
    {
     "name": "stderr",
     "output_type": "stream",
     "text": [
      "100%|██████████| 1242/1242 [00:30<00:00, 40.60it/s]"
     ]
    },
    {
     "name": "stdout",
     "output_type": "stream",
     "text": [
      "Average retrieval accuracy: 0.88 ± 0.22\n"
     ]
    },
    {
     "name": "stderr",
     "output_type": "stream",
     "text": [
      "\n"
     ]
    }
   ],
   "source": [
    "import random\n",
    "import torch.nn.functional as F\n",
    "import matplotlib.pyplot as plt\n",
    "from tqdm import trange\n",
    "\n",
    "\n",
    "num_repetitions = 50\n",
    "num_samples = 30\n",
    "rep_accuracies = []\n",
    "for n in trange(embeddings.shape[0]):\n",
    "    random_embedding = embeddings[n]\n",
    "    target_label = labels[n]\n",
    "    img = test_loader.dataset[n][0].squeeze().cpu().numpy()\n",
    "    img = img[0] if \"imagenet\" in WEIGHTS.lower() else img\n",
    "    similarities = F.cosine_similarity(embeddings, random_embedding.unsqueeze(0), dim=1).cpu().numpy()\n",
    "    sorted_indices = np.argsort(similarities)[::-1]\n",
    "    query_labels = []\n",
    "\n",
    "    for i in sorted_indices[1:num_samples+1]:\n",
    "        sim = similarities[i]\n",
    "        data_index = dataset_idx[i]\n",
    "        similar_img = test_loader.dataset[data_index][0].squeeze().cpu().numpy()\n",
    "        query_labels.append(labels[i])\n",
    "        similar_img = similar_img[0] if \"imagenet\" in WEIGHTS.lower() else similar_img\n",
    "        # if labels[i] != target_label:\n",
    "        #     fig, axs = plt.subplots(1, 2)\n",
    "        #     axs[0].imshow(img, cmap='hot')\n",
    "        #     axs[1].imshow(similar_img, cmap='hot')\n",
    "        #     axs[1].set_title(f\"Similarity: {sim:.2f}\")\n",
    "        #     for ax in axs:\n",
    "        #         ax.axis('off')\n",
    "        #     plt.show()\n",
    "\n",
    "    retrieval_accuracy = np.sum(np.array(query_labels) == target_label) / len(query_labels)\n",
    "    rep_accuracies.append(retrieval_accuracy)\n",
    "\n",
    "print(f\"Average retrieval accuracy: {np.mean(rep_accuracies):.2f} ± {np.std(rep_accuracies):.2f}\")\n",
    "\n"
   ]
  },
  {
   "cell_type": "code",
   "execution_count": null,
   "metadata": {},
   "outputs": [],
   "source": []
  }
 ],
 "metadata": {
  "kernelspec": {
   "display_name": "phd-env",
   "language": "python",
   "name": "python3"
  },
  "language_info": {
   "codemirror_mode": {
    "name": "ipython",
    "version": 3
   },
   "file_extension": ".py",
   "mimetype": "text/x-python",
   "name": "python",
   "nbconvert_exporter": "python",
   "pygments_lexer": "ipython3",
   "version": "3.8.18"
  }
 },
 "nbformat": 4,
 "nbformat_minor": 2
}
