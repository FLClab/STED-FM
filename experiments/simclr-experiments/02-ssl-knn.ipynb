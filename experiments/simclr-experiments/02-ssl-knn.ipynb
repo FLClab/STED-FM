{
 "cells": [
  {
   "cell_type": "code",
   "execution_count": 79,
   "id": "9f253ef0",
   "metadata": {},
   "outputs": [
    {
     "name": "stdout",
     "output_type": "stream",
     "text": [
      "The autoreload extension is already loaded. To reload it, use:\n",
      "  %reload_ext autoreload\n",
      "Model loaded\n"
     ]
    },
    {
     "name": "stderr",
     "output_type": "stream",
     "text": [
      "/tmp/ipykernel_1333365/741478070.py:32: UserWarning: Overwriting the cmap 'nice-prism' that was already in the registry.\n",
      "  matplotlib.colormaps.register(cmap=cmap, force=True)\n",
      "/tmp/ipykernel_1333365/741478070.py:33: UserWarning: Overwriting the cmap 'nice-prism_r' that was already in the registry.\n",
      "  matplotlib.colormaps.register(cmap=cmap.reversed(), force=True)\n",
      "/tmp/ipykernel_1333365/741478070.py:39: UserWarning: Overwriting the cmap 'green-magenta' that was already in the registry.\n",
      "  matplotlib.colormaps.register(cmap=cmap, force=True)\n",
      "/tmp/ipykernel_1333365/741478070.py:40: UserWarning: Overwriting the cmap 'green-magenta_r' that was already in the registry.\n",
      "  matplotlib.colormaps.register(cmap=cmap.reversed(), force=True)\n"
     ]
    }
   ],
   "source": [
    "%load_ext autoreload\n",
    "%autoreload 2\n",
    "\n",
    "import torch\n",
    "import torchvision\n",
    "import re\n",
    "import os\n",
    "import random\n",
    "import numpy\n",
    "import glob\n",
    "import matplotlib\n",
    "import tifffile\n",
    "\n",
    "from lightly.models.modules import heads\n",
    "from torch.utils.data import Dataset, DataLoader\n",
    "from collections import defaultdict\n",
    "from tqdm import tqdm\n",
    "from matplotlib import pyplot\n",
    "from typing import Any\n",
    "from skimage import filters\n",
    "\n",
    "from dataset import TarFLCDataset\n",
    "from modules.transforms import SimCLRTransform\n",
    "from main import SimCLR\n",
    "from backbones import get_backbone\n",
    "from evaluation import get_dataset\n",
    "\n",
    "cmap = matplotlib.colors.LinearSegmentedColormap.from_list(\n",
    "    name=\"nice-prism\",\n",
    "    colors=[\"#5F4690\",\"#1D6996\",\"#38A6A5\",\"#0F8554\",\"#73AF48\",\"#EDAD08\",\"#E17C05\",\"#CC503E\",\"#94346E\"]\n",
    ")\n",
    "matplotlib.colormaps.register(cmap=cmap, force=True)\n",
    "matplotlib.colormaps.register(cmap=cmap.reversed(), force=True)\n",
    "\n",
    "cmap = matplotlib.colors.LinearSegmentedColormap.from_list(\n",
    "    name=\"green-magenta\",\n",
    "    colors=[\"tab:green\", \"#ff00ff\"]\n",
    ")\n",
    "matplotlib.colormaps.register(cmap=cmap, force=True)\n",
    "matplotlib.colormaps.register(cmap=cmap.reversed(), force=True)\n",
    "\n",
    "# Use a resnet backbone.\n",
    "MODEL = \"simclr-resnet18-STED\"\n",
    "MODEL = \"IMAGENET1K_V1\"\n",
    "MODEL = \"MICRA-Net\"\n",
    "# MODEL = \"naive\"\n",
    "\n",
    "DEVICE = torch.device(\"cuda\" if torch.cuda.is_available() else \"cpu\")\n",
    "DEVICE = torch.device(\"cpu\")\n",
    "REQUIRES_3_CHANNELS = False\n",
    "\n",
    "transform = None\n",
    "if MODEL == \"simclr-resnet18-STED\":\n",
    "    backbone = get_backbone(\"resnet18\")\n",
    "    model = SimCLR(backbone)\n",
    "    \n",
    "    checkpoint = torch.load(\"./data/ssl/baselines/resnet18/result.pt\", map_location=\"cpu\")\n",
    "\n",
    "    ckpt = checkpoint.get(\"model\", None)\n",
    "    if ckpt is not None:\n",
    "        model.load_state_dict(ckpt)\n",
    "elif MODEL == \"MICRA-Net\":\n",
    "    backbone = get_backbone(\"micranet\")\n",
    "    model = SimCLR(backbone)\n",
    "    \n",
    "    checkpoint = torch.load(\"./data/ssl/baselines/micranet/result.pt\", map_location=\"cpu\")\n",
    "    ckpt = checkpoint.get(\"model\", None)\n",
    "    if ckpt is not None:\n",
    "        model.load_state_dict(ckpt)\n",
    "    \n",
    "elif MODEL == \"IMAGENET1K_V1\":\n",
    "    transform = torchvision.models.ResNet18_Weights.IMAGENET1K_V1.transforms()\n",
    "    backbone = torchvision.models.resnet18(weights=\"IMAGENET1K_V1\")\n",
    "    backbone.fc = torch.nn.Identity()\n",
    "    model = SimCLR(backbone)\n",
    "    REQUIRES_3_CHANNELS = True\n",
    "elif MODEL == \"naive\": \n",
    "    backbone = get_backbone(\"naive\")\n",
    "    model = SimCLR(backbone)\n",
    "else:\n",
    "    raise NotImplementedError\n",
    "    \n",
    "model = model.to(DEVICE)      \n",
    "model.eval()\n",
    "# print(model)\n",
    "print(\"Model loaded\")"
   ]
  },
  {
   "cell_type": "code",
   "execution_count": 80,
   "id": "aae5fadb",
   "metadata": {},
   "outputs": [
    {
     "name": "stdout",
     "output_type": "stream",
     "text": [
      "Dataset(optim) -- length: 438\n",
      "actin - 261\n",
      "tubulin - 60\n",
      "CaMKII_Neuron - 56\n",
      "PSD95_Neuron - 61\n",
      "\n"
     ]
    }
   ],
   "source": [
    "dataset = get_dataset(\"optim\", transform=transform, requires_3_channels=REQUIRES_3_CHANNELS)\n",
    "print(dataset)\n",
    "# Build a PyTorch dataloader.\n",
    "dataloader = torch.utils.data.DataLoader(\n",
    "    dataset,  \n",
    "    batch_size=16,\n",
    "    shuffle=True,\n",
    "    num_workers=1\n",
    ")"
   ]
  },
  {
   "cell_type": "markdown",
   "id": "f80cef5c",
   "metadata": {},
   "source": [
    "# KNN"
   ]
  },
  {
   "cell_type": "code",
   "execution_count": 81,
   "id": "1bc19a75",
   "metadata": {},
   "outputs": [
    {
     "name": "stderr",
     "output_type": "stream",
     "text": [
      "100%|██████████████████████████████████████████████████████████████████████████████████████████████████████████████████████| 28/28 [00:09<00:00,  2.91it/s]\n"
     ]
    }
   ],
   "source": [
    "out = defaultdict(list)\n",
    "for x, label in tqdm(dataloader):\n",
    "    \n",
    "    x = x.to(DEVICE)\n",
    "    features = model.backbone(x).flatten(start_dim=1)\n",
    "    for key, values in label.items():\n",
    "        out[key].extend(values.cpu().data.numpy().tolist())\n",
    "    out[\"features\"].extend(features.cpu().data.numpy())"
   ]
  },
  {
   "cell_type": "code",
   "execution_count": 82,
   "id": "8e2599f3",
   "metadata": {
    "scrolled": false
   },
   "outputs": [
    {
     "name": "stdout",
     "output_type": "stream",
     "text": [
      "Accuracy: 95.88\n",
      "Accuracy (actin): 96.75\n",
      "Accuracy (tubulin): 92.37\n",
      "Accuracy (CaMKII_Neuron): 93.48\n",
      "Accuracy (PSD95_Neuron): 97.68\n"
     ]
    },
    {
     "data": {
      "image/png": "[encoded data removed]",
      "text/plain": [
       "<Figure size 640x480 with 1 Axes>"
      ]
     },
     "metadata": {},
     "output_type": "display_data"
    }
   ],
   "source": [
    "from sklearn.neighbors import NearestNeighbors\n",
    "SHOW_MISSED = False\n",
    "\n",
    "samples = numpy.array(out[\"features\"])\n",
    "labels = numpy.array(out[\"label\"])\n",
    "indices = numpy.array(out[\"dataset-idx\"])\n",
    "\n",
    "neigh = NearestNeighbors(n_neighbors=6, metric=\"minkowski\", p=2)\n",
    "neigh.fit(samples)\n",
    "\n",
    "# 1st nn is itself\n",
    "neighbors = neigh.kneighbors(samples, return_distance=False)[:, 1:]\n",
    "associated_labels = labels[neighbors]\n",
    "\n",
    "# accuracy = numpy.sum(associated_labels == labels[:, numpy.newaxis], axis=-1)\n",
    "uniques = numpy.unique(labels)\n",
    "confusion_matrix = numpy.zeros((len(uniques), len(uniques)))\n",
    "for unique in uniques:\n",
    "    mask = labels == unique\n",
    "    for predicted_unique in uniques:\n",
    "        votes = numpy.sum((associated_labels[mask] == predicted_unique).astype(int), axis=-1)\n",
    "        confusion_matrix[unique, predicted_unique] += numpy.sum(votes >= 3)\n",
    "        if SHOW_MISSED and (unique != predicted_unique) and (numpy.sum(votes >= 3) > 0):\n",
    "            print(unique, predicted_unique)\n",
    "            for idx, associated in zip(indices[mask][votes >= 3], associated_labels[mask][votes >= 3]):\n",
    "                img, metadata = dataset[idx]\n",
    "                img = img[0].cpu().data.numpy()\n",
    "                \n",
    "                fig, ax = pyplot.subplots(figsize=(3,3))\n",
    "                ax.imshow(img, cmap=\"hot\", vmin=0, vmax=1)\n",
    "                ax.set_title(associated)\n",
    "                ax.get_xaxis().set_visible(False)\n",
    "                ax.get_yaxis().set_visible(False)\n",
    "                pyplot.show()\n",
    "                \n",
    "def accuracy_per_class(confusion_matrix):\n",
    "    diag = numpy.diag(confusion_matrix)\n",
    "    confusion_matrices = {}\n",
    "    for i in range(len(diag)):\n",
    "        indices = numpy.setdiff1d(numpy.arange(len(diag)), [i])\n",
    "        cm = numpy.zeros((2, 2))\n",
    "        cm[0, 0] = diag[i]\n",
    "        cm[0, 1] = numpy.sum(confusion_matrix[i, indices])\n",
    "        cm[1, 1] = numpy.sum(diag[indices])\n",
    "        cm[1, 0] = numpy.sum(confusion_matrix[indices, i])        \n",
    "        confusion_matrices[i] = cm\n",
    "    return confusion_matrices\n",
    "                \n",
    "accuracy = numpy.diag(confusion_matrix).sum() / numpy.sum(confusion_matrix)\n",
    "print(f\"Accuracy: {accuracy * 100:0.2f}\")\n",
    "confusion_matrices = accuracy_per_class(confusion_matrix)\n",
    "for key, cm in confusion_matrices.items():\n",
    "    tp, tn, fp, fn = cm[0, 0], cm[1, 1], cm[1, 0], cm[0, 1]\n",
    "    balanced_accuracy = 0.5 * (tp / (tp + fn) + tn / (tn + fp))\n",
    "    print(f\"Accuracy ({dataset.classes[key]}): {balanced_accuracy * 100:0.2f}\")\n",
    "\n",
    "fig, ax = pyplot.subplots()\n",
    "cm = confusion_matrix / numpy.sum(confusion_matrix, axis=-1)[:, numpy.newaxis]\n",
    "ax.imshow(cm, vmin=0, vmax=1, cmap=\"Purples\")\n",
    "for j in range(cm.shape[-2]):\n",
    "    for i in range(cm.shape[-1]):\n",
    "        ax.annotate(\n",
    "            f\"{cm[j, i]:0.2f}\\n({confusion_matrix[j, i]:0.0f})\", (i, j), \n",
    "            horizontalalignment=\"center\", verticalalignment=\"center\",\n",
    "            color=\"white\" if cm[j, i] > 0.5 else \"black\"\n",
    "        )\n",
    "ax.set(\n",
    "    xticks=uniques, yticks=uniques,\n",
    "    xticklabels=dataset.classes,\n",
    "    yticklabels=dataset.classes\n",
    ")\n",
    "pyplot.show()"
   ]
  },
  {
   "cell_type": "code",
   "execution_count": null,
   "id": "92ed3c8b",
   "metadata": {},
   "outputs": [],
   "source": []
  },
  {
   "cell_type": "code",
   "execution_count": null,
   "id": "587b9da6",
   "metadata": {},
   "outputs": [],
   "source": []
  }
 ],
 "metadata": {
  "kernelspec": {
   "display_name": "ssl",
   "language": "python",
   "name": "ssl"
  },
  "language_info": {
   "codemirror_mode": {
    "name": "ipython",
    "version": 3
   },
   "file_extension": ".py",
   "mimetype": "text/x-python",
   "name": "python",
   "nbconvert_exporter": "python",
   "pygments_lexer": "ipython3",
   "version": "3.10.13"
  }
 },
 "nbformat": 4,
 "nbformat_minor": 5
}
