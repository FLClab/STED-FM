{
 "cells": [
  {
   "cell_type": "code",
   "execution_count": 29,
   "metadata": {},
   "outputs": [],
   "source": [
    "import numpy as np \n",
    "import matplotlib.pyplot as plt \n",
    "import argparse \n",
    "from diffusion_models.diffusion.ddpm_lightning import DDPM \n",
    "from diffusion_models.diffusion.denoising.unet import UNet \n",
    "import torch \n",
    "from tqdm import trange, tqdm \n",
    "import copy \n",
    "import sys \n",
    "import os \n",
    "import random \n",
    "from class_dict import class_dict\n",
    "sys.path.insert(0, \"../\")\n",
    "from loaders import get_dataset \n",
    "from model_builder import get_pretrained_model_v2 \n",
    "\n",
    "DATASET_PATH = \"/home-local/Frederic/evaluation-data/NeuralActivityStates\"\n",
    "LATENT_ENCODER = \"mae-lightning-small\"\n",
    "WEIGHTS = \"MAE_SMALL_JUMP\"\n",
    "CHECKPOINT = \"/home-local/Frederic/baselines/DiffusionModels/classifier-guidance\"\n",
    "NUM_SAMPLES = 15 \n",
    "GUIDANCE = \"class\"\n",
    "\n",
    "def get_save_folder(key: str) -> str: \n",
    "    if key is None:\n",
    "        return \"from-scratch\"\n",
    "    elif \"imagenet\" in key.lower():\n",
    "        return \"ImageNet\"\n",
    "    elif \"sted\" in key.lower():\n",
    "        return \"STED\"\n",
    "    elif \"jump\" in key.lower():\n",
    "        return \"JUMP\"\n",
    "    elif \"sim\" in key.lower():\n",
    "        return \"SIM\"\n",
    "    elif \"hpa\" in key.lower():\n",
    "        return \"HPA\"\n",
    "    elif \"sim\" in key.lower():\n",
    "        return \"SIM\"\n",
    "    else:\n",
    "        raise NotImplementedError(\"The requested weights do not exist.\")\n",
    "\n",
    "SAVENAME = get_save_folder(key=WEIGHTS)"
   ]
  },
  {
   "cell_type": "code",
   "execution_count": 30,
   "metadata": {},
   "outputs": [
    {
     "name": "stdout",
     "output_type": "stream",
     "text": [
      "mask_ratio 0.0\n",
      "pretrained False\n",
      "in_channels 1\n",
      "blocks all\n",
      "num_classes 4\n",
      "--- mae-lightning-small | /home-local/Frederic/baselines/mae-small_JUMP/checkpoint-999.pth ---\n",
      "\n",
      "--- Loaded model mae-lightning-small with weights MAE_SMALL_JUMP ---\n",
      "--- Freezing every parameter in mae-lightning-small ---\n",
      "--- Added linear probe to all frozen blocks ---\n",
      "/home-local/Frederic/baselines/DiffusionModels/classifier-guidance/checkpoint-69.pth\n"
     ]
    }
   ],
   "source": [
    "np.random.seed(42)\n",
    "DEVICE = torch.device(\"cuda\" if torch.cuda.is_available() else \"cpu\")\n",
    "n_channels = 3 if SAVENAME == \"ImageNet\" else 1  \n",
    "latent_encoder, model_config = get_pretrained_model_v2(\n",
    "    name=LATENT_ENCODER,\n",
    "    weights=WEIGHTS,\n",
    "    path=None,\n",
    "    mask_ratio=0.0,\n",
    "    pretrained=True if n_channels == 3 else False,\n",
    "    in_channels=n_channels,\n",
    "    as_classifier=True,\n",
    "    blocks=\"all\",\n",
    "    num_classes=4\n",
    ")\n",
    "denoising_model = UNet(\n",
    "    dim=64,\n",
    "    channels=1,\n",
    "    dim_mults=(1,2,4),\n",
    "    cond_dim=model_config.dim,\n",
    "    condition_type=GUIDANCE,\n",
    "    num_classes=24 if GUIDANCE == \"class\" else 4\n",
    ")\n",
    "model = DDPM(\n",
    "    denoising_model=denoising_model,\n",
    "    timesteps=1000,\n",
    "    beta_schedule=\"linear\",\n",
    "    condition_type=GUIDANCE,\n",
    "    latent_encoder=latent_encoder if GUIDANCE == \"latent\" else None,\n",
    ")\n",
    "\n",
    "path = f\"{CHECKPOINT}/{WEIGHTS}/checkpoint-69.pth\" if GUIDANCE == \"latent\" else f\"{CHECKPOINT}/checkpoint-69.pth\"\n",
    "print(path)\n",
    "ckpt = torch.load(path)\n",
    "model.load_state_dict(ckpt[\"state_dict\"])\n",
    "model = model.to(DEVICE)"
   ]
  },
  {
   "cell_type": "code",
   "execution_count": 31,
   "metadata": {},
   "outputs": [
    {
     "name": "stderr",
     "output_type": "stream",
     "text": [
      "Processing dataset..: 100%|██████████| 6021/6021 [00:04<00:00, 1246.07it/s]\n",
      "Processing dataset..: 100%|██████████| 1176/1176 [00:00<00:00, 1491.09it/s]\n",
      "Processing dataset..: 100%|██████████| 1510/1510 [00:01<00:00, 1458.64it/s]"
     ]
    },
    {
     "name": "stdout",
     "output_type": "stream",
     "text": [
      "\n",
      "=== NAS dataset ===\n",
      "(array([0, 1, 2, 3]), array([1545, 1423,  512, 2541]))\n",
      "(array([0, 1, 2, 3]), array([230, 420, 113, 413]))\n",
      "(array([0, 1, 2, 3]), array([492, 299, 200, 519]))\n",
      "Training size: 6021\n",
      "Validation size: 1176\n",
      "Test size: 1510\n",
      "\n",
      "======\n",
      "\n"
     ]
    },
    {
     "name": "stderr",
     "output_type": "stream",
     "text": [
      "\n"
     ]
    }
   ],
   "source": [
    "train_loader, valid_loader, test_loader = get_dataset(\n",
    "    name=\"neural-activity-states\",\n",
    "    transform=None,\n",
    "    training=True,\n",
    "    path=None,\n",
    "    batch_size=model_config.batch_size,\n",
    "    n_channels=1,\n",
    "    balance=False\n",
    ")\n",
    "dataset = test_loader.dataset"
   ]
  },
  {
   "cell_type": "code",
   "execution_count": 32,
   "metadata": {},
   "outputs": [],
   "source": [
    "def save_image(image: np.ndarray, generation: np.ndarray, i: int, class_name: str) -> None:\n",
    "    fig = plt.figure()\n",
    "    plt.imshow(image, cmap='hot', vmin=0, vmax=1)\n",
    "    plt.axis(\"off\")\n",
    "    plt.savefig(f\"./classification-study/{GUIDANCE}-guidance/templates/template{i}_{class_name.upper()}.png\", dpi=1200, bbox_inches=\"tight\")\n",
    "    plt.close(fig)\n",
    "\n",
    "\n",
    "    weights = \"classifier-guidance\" if GUIDANCE == \"class\" else WEIGHTS\n",
    "    fig = plt.figure()\n",
    "    plt.imshow(generation, cmap='hot', vmin=0, vmax=1)\n",
    "    plt.axis(\"off\")\n",
    "    plt.savefig(f\"./classification-study/{GUIDANCE}-guidance/candidates/{weights}_template{i}_{class_name.upper()}.png\", dpi=1200, bbox_inches=\"tight\")\n",
    "    plt.close(fig)"
   ]
  },
  {
   "cell_type": "code",
   "execution_count": 33,
   "metadata": {},
   "outputs": [
    {
     "name": "stderr",
     "output_type": "stream",
     "text": [
      "Processing samples...:   0%|          | 0/1510 [00:00<?, ?it/s]<ipython-input-33-3e37babbfa57>:29: UserWarning: To copy construct from a tensor, it is recommended to use sourceTensor.clone().detach() or sourceTensor.clone().detach().requires_grad_(True), rather than torch.tensor(sourceTensor).\n",
      "  image = torch.tensor(original_img, dtype=torch.float32).unsqueeze(0).to(DEVICE)\n",
      "Iterative sampling...: 100%|██████████| 1000/1000 [00:36<00:00, 27.09it/s]\n",
      "Iterative sampling...: 100%|██████████| 1000/1000 [00:37<00:00, 26.92it/s]\n",
      "Iterative sampling...: 100%|██████████| 1000/1000 [00:37<00:00, 26.81it/s]\n",
      "Iterative sampling...: 100%|██████████| 1000/1000 [00:37<00:00, 26.61it/s]\n",
      "Iterative sampling...: 100%|██████████| 1000/1000 [00:37<00:00, 26.42it/s]\n",
      "Iterative sampling...: 100%|██████████| 1000/1000 [00:37<00:00, 26.36it/s]\n",
      "Iterative sampling...: 100%|██████████| 1000/1000 [00:37<00:00, 26.36it/s]\n",
      "Iterative sampling...: 100%|██████████| 1000/1000 [00:37<00:00, 26.36it/s]\n",
      "Iterative sampling...: 100%|██████████| 1000/1000 [00:38<00:00, 26.29it/s]\n",
      "Iterative sampling...: 100%|██████████| 1000/1000 [00:38<00:00, 26.27it/s]\n",
      "Iterative sampling...: 100%|██████████| 1000/1000 [00:38<00:00, 26.26it/s]]\n",
      "Iterative sampling...: 100%|██████████| 1000/1000 [00:38<00:00, 26.30it/s]]\n",
      "Iterative sampling...: 100%|██████████| 1000/1000 [00:38<00:00, 26.30it/s]]\n",
      "Iterative sampling...: 100%|██████████| 1000/1000 [00:38<00:00, 26.31it/s]]\n",
      "Iterative sampling...: 100%|██████████| 1000/1000 [00:38<00:00, 26.30it/s]]\n",
      "Processing samples...:   1%|          | 15/1510 [09:56<16:30:08, 39.74s/it]\n"
     ]
    }
   ],
   "source": [
    "indices = np.arange(len(dataset))\n",
    "\n",
    "np.random.seed(42)\n",
    "np.random.shuffle(indices)\n",
    "from typing import Union\n",
    "def denormalize(img: Union[np.ndarray, torch.Tensor], mu: float = 0.06957887037697921, std: float = 0.1254630260057964) -> Union[np.ndarray, torch.Tensor]:\n",
    "    \"\"\"\n",
    "    Denormalizes an image. Note that the parameters mu and sigma seem hard-coded but they have been computed from the training sets and can be found\n",
    "    in the attribute_datasets.py file.\n",
    "    \"\"\"\n",
    "    return img * std + mu\n",
    "\n",
    "counter = 0\n",
    "model.eval()\n",
    "with torch.no_grad():\n",
    "    for idx in tqdm(indices, total=len(indices), desc=\"Processing samples...\"):\n",
    "        original_img, metadata = dataset[idx]\n",
    "        protein = \"psd95\"\n",
    "        if counter >= NUM_SAMPLES:\n",
    "            break\n",
    "        else:\n",
    "            counter += 1\n",
    "\n",
    "       \n",
    "        if SAVENAME == \"ImageNet\":\n",
    "                image = torch.tensor(original_img, dtype=torch.float32).repeat(3, 1, 1).unsqueeze(0).to(DEVICE)\n",
    "                assert torch.equal(image[0, 0, :, :], image[0, 1, :, :]) and torch.equal(image[0, 1, :, :], image[0, 2, :, :]), \"All three channels in the image tensor are not equal\"\n",
    "        else:\n",
    "            image = torch.tensor(original_img, dtype=torch.float32).unsqueeze(0).to(DEVICE)\n",
    "\n",
    "        condition = model.latent_encoder.forward_features(image) if GUIDANCE == \"latent\" else torch.tensor(class_dict[protein], dtype=torch.int8).to(DEVICE).long() \n",
    "\n",
    "        original_img = original_img[0]\n",
    "        generation = model.p_sample_loop(shape=(image.shape[0], 1, image.shape[2], image.shape[3]), cond=condition, progress=True)\n",
    "\n",
    "        original_img = original_img.cpu().numpy()    \n",
    "        generation = generation.squeeze().cpu().numpy()\n",
    "        if SAVENAME == \"ImageNet\":\n",
    "            generation = denormalize(generation)\n",
    "            m, M = generation.min(), generation.max()\n",
    "            generation = (generation - m) / (M - m)\n",
    "        \n",
    "        # if SAVENAME == \"ImageNet\":\n",
    "        #     print(original_img.min(), original_img.max())\n",
    "        #     original_img = denormalize(original_img, mu=0.014, std=0.03)\n",
    "        #     print(original_img.min(), original_img.max())\n",
    "        #     print(generation.min(), generation.max())\n",
    "        #     # generation = denormalize(generation)\n",
    "        #     m, M = generation.min(), generation.max()\n",
    "        #     print(\"\\n\\n\")\n",
    "        \n",
    "        save_image(original_img, generation, idx, protein)\n"
   ]
  },
  {
   "cell_type": "code",
   "execution_count": null,
   "metadata": {},
   "outputs": [],
   "source": []
  }
 ],
 "metadata": {
  "kernelspec": {
   "display_name": "phd-env",
   "language": "python",
   "name": "python3"
  },
  "language_info": {
   "codemirror_mode": {
    "name": "ipython",
    "version": 3
   },
   "file_extension": ".py",
   "mimetype": "text/x-python",
   "name": "python",
   "nbconvert_exporter": "python",
   "pygments_lexer": "ipython3",
   "version": "3.8.-1"
  }
 },
 "nbformat": 4,
 "nbformat_minor": 2
}
