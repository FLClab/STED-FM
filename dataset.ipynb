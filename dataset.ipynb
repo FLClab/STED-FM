{
 "cells": [
  {
   "cell_type": "code",
   "execution_count": 36,
   "metadata": {},
   "outputs": [],
   "source": [
    "\n",
    "import os, glob\n",
    "import json\n",
    "import numpy \n",
    "import tifffile\n",
    "\n",
    "from matplotlib import pyplot\n",
    "from skimage.filters import threshold_otsu\n",
    "from tqdm.auto import tqdm\n",
    "\n",
    "metadata = json.load(open(os.path.join(\".\", \"datasets\", \"scraping\", \"metadata.json\"), \"r\"))\n"
   ]
  },
  {
   "cell_type": "code",
   "execution_count": 45,
   "metadata": {},
   "outputs": [
    {
     "data": {
      "application/vnd.jupyter.widget-view+json": {
       "model_id": "5420fb9ab4374ed3a9acc1866deae30b",
       "version_major": 2,
       "version_minor": 0
      },
      "text/plain": [
       "  0%|          | 0/46671 [00:00<?, ?it/s]"
      ]
     },
     "metadata": {},
     "output_type": "display_data"
    }
   ],
   "source": [
    "snrs = []\n",
    "for i, (key, value) in enumerate(tqdm(metadata.items())):\n",
    "\n",
    "    image = tifffile.imread(value[\"path\"])\n",
    "\n",
    "    # Normalize image \n",
    "    m, M = numpy.quantile(image, [0.001, 0.999])\n",
    "    if m == M: \n",
    "        continue    \n",
    "    image = numpy.clip((image - m) / (M - m), 0, 1)\n",
    "    \n",
    "    threshold = threshold_otsu(image)\n",
    "    foreground = image > threshold\n",
    "\n",
    "    std = numpy.std(image[numpy.invert(foreground)])\n",
    "    if std == 0:\n",
    "        continue\n",
    "    snr = numpy.mean(image[foreground]) / std\n",
    "\n",
    "    snrs.append({\n",
    "        \"key\" : key,\n",
    "        \"snr\" : snr\n",
    "    })\n"
   ]
  },
  {
   "cell_type": "code",
   "execution_count": 72,
   "metadata": {},
   "outputs": [
    {
     "data": {
      "image/png": "[encoded data removed]",
      "text/plain": [
       "<Figure size 640x480 with 1 Axes>"
      ]
     },
     "metadata": {},
     "output_type": "display_data"
    }
   ],
   "source": [
    "values = numpy.array([s[\"snr\"] for s in snrs])\n",
    "fig, ax = pyplot.subplots()\n",
    "ax.hist(values, range=(0, 100), bins=100)\n",
    "mean, std = numpy.mean(values), numpy.std(values)\n",
    "\n",
    "median = numpy.median(values)\n",
    "iqr = numpy.quantile(values, 0.75) - numpy.quantile(values, 0.25)\n",
    "\n",
    "ax.plot([median - iqr, numpy.quantile(values, 0.99)], [1000, 1000])\n",
    "pyplot.show()\n"
   ]
  },
  {
   "cell_type": "code",
   "execution_count": 76,
   "metadata": {},
   "outputs": [],
   "source": [
    "argwhere = numpy.argwhere(values > numpy.quantile(values, 0.99))\n",
    "\n",
    "# numpy.random.shuffle(argwhere)\n",
    "# for i in argwhere[:10]:\n",
    "#     i = i.item()\n",
    "#     image = tifffile.imread(metadata[snrs[i][\"key\"]][\"path\"])\n",
    "#     print(image.min(), image.max())\n",
    "\n",
    "#     fig, ax = pyplot.subplots()\n",
    "#     ax.imshow(image, cmap=\"gray\", vmin=numpy.quantile(image, 0.01), vmax=numpy.quantile(image, 0.999))\n",
    "#     ax.set_title(f\"SNR: {values[i]}\")\n",
    "#     ax.axis(\"off\")\n",
    "#     pyplot.show()\n",
    "\n",
    "# argwhere = numpy.argsort(values)\n",
    "# for i in argwhere[:10]:\n",
    "#     i = i.item()\n",
    "#     image = tifffile.imread(metadata[snrs[i][\"key\"]][\"path\"])\n",
    "#     print(image.min(), image.max())\n",
    "\n",
    "#     fig, ax = pyplot.subplots()\n",
    "#     ax.imshow(image, cmap=\"gray\", vmin=numpy.quantile(image, 0.01), vmax=numpy.quantile(image, 0.999))\n",
    "#     ax.set_title(f\"SNR: {values[i]}\")\n",
    "#     ax.axis(\"off\")\n",
    "#     pyplot.show()    "
   ]
  },
  {
   "cell_type": "code",
   "execution_count": 81,
   "metadata": {},
   "outputs": [
    {
     "name": "stdout",
     "output_type": "stream",
     "text": [
      "46671 37387\n"
     ]
    }
   ],
   "source": [
    "argwhere = numpy.argwhere(values < numpy.quantile(values, 0.99))\n",
    "updated_metadata = {}\n",
    "for i in argwhere:\n",
    "    i = i.item()\n",
    "    key = snrs[i][\"key\"]\n",
    "    updated_metadata[key] = metadata[key]\n",
    "print(len(metadata), len(updated_metadata))\n",
    "\n",
    "metadata = json.dump(updated_metadata, open(os.path.join(\".\", \"datasets\", \"scraping\", \"metadata-updated.json\"), \"w\"))"
   ]
  }
 ],
 "metadata": {
  "kernelspec": {
   "display_name": "ssl",
   "language": "python",
   "name": "python3"
  },
  "language_info": {
   "codemirror_mode": {
    "name": "ipython",
    "version": 3
   },
   "file_extension": ".py",
   "mimetype": "text/x-python",
   "name": "python",
   "nbconvert_exporter": "python",
   "pygments_lexer": "ipython3",
   "version": "3.10.13"
  }
 },
 "nbformat": 4,
 "nbformat_minor": 2
}
